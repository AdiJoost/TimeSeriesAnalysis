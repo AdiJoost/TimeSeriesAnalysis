{
 "cells": [
  {
   "cell_type": "code",
   "execution_count": 8,
   "metadata": {},
   "outputs": [],
   "source": [
    "import pandas as pd\n",
    "\n",
    "import warnings\n",
    "warnings.simplefilter(action='ignore', category=pd.errors.SettingWithCopyWarning)"
   ]
  },
  {
   "cell_type": "code",
   "execution_count": 9,
   "metadata": {},
   "outputs": [],
   "source": [
    "def getStoreDF(storeId: int, departementId: int, df, testSize: int=0):\n",
    "    store = df[(df[\"Store\"] == storeId) & (df[\"Dept\"] == departementId)]\n",
    "    if (len(store) < 1):\n",
    "        return None, None\n",
    "    store['Date'] = pd.to_datetime(store['Date'], format='%Y-%m-%d')\n",
    "    if (testSize > 0):\n",
    "        store_train = store[:-testSize]\n",
    "        store_test = store[-testSize:]\n",
    "        return store_train, store_test\n",
    "    return store, None "
   ]
  },
  {
   "cell_type": "code",
   "execution_count": 10,
   "metadata": {},
   "outputs": [],
   "source": [
    "df = pd.read_csv(\"data/train.csv\")\n",
    "uniqueStoreIds = df[\"Store\"].unique()"
   ]
  },
  {
   "cell_type": "code",
   "execution_count": 11,
   "metadata": {},
   "outputs": [
    {
     "data": {
      "text/plain": [
       "array([ 1,  2,  3,  4,  5,  6,  7,  8,  9, 10, 11, 12, 13, 14, 15, 16, 17,\n",
       "       18, 19, 20, 21, 22, 23, 24, 25, 26, 27, 28, 29, 30, 31, 32, 33, 34,\n",
       "       35, 36, 37, 38, 39, 40, 41, 42, 43, 44, 45])"
      ]
     },
     "execution_count": 11,
     "metadata": {},
     "output_type": "execute_result"
    }
   ],
   "source": [
    "uniqueStoreIds"
   ]
  },
  {
   "cell_type": "code",
   "execution_count": 12,
   "metadata": {},
   "outputs": [],
   "source": [
    "uniqueDeptId = df[\"Dept\"].unique()"
   ]
  },
  {
   "cell_type": "code",
   "execution_count": 13,
   "metadata": {},
   "outputs": [
    {
     "data": {
      "text/plain": [
       "81"
      ]
     },
     "execution_count": 13,
     "metadata": {},
     "output_type": "execute_result"
    }
   ],
   "source": [
    "len(uniqueDeptId)"
   ]
  },
  {
   "cell_type": "code",
   "execution_count": 14,
   "metadata": {},
   "outputs": [],
   "source": [
    "actualUniqueTimeseries = []\n",
    "for storeId in uniqueStoreIds:\n",
    "    for deptId in uniqueDeptId:\n",
    "        newDf, _ = getStoreDF(storeId, deptId, df)\n",
    "        if (newDf is not None and len(newDf) >= 104):\n",
    "            actualUniqueTimeseries.append((storeId, deptId))"
   ]
  },
  {
   "cell_type": "code",
   "execution_count": 15,
   "metadata": {},
   "outputs": [
    {
     "data": {
      "text/plain": [
       "2868"
      ]
     },
     "execution_count": 15,
     "metadata": {},
     "output_type": "execute_result"
    }
   ],
   "source": [
    "len(actualUniqueTimeseries)"
   ]
  },
  {
   "cell_type": "code",
   "execution_count": 16,
   "metadata": {},
   "outputs": [
    {
     "name": "stdout",
     "output_type": "stream",
     "text": [
      "3331\n"
     ]
    }
   ],
   "source": [
    "actualUniqueTimeseries = []\n",
    "existingSeries = 0\n",
    "for storeId in uniqueStoreIds:\n",
    "    for deptId in uniqueDeptId:\n",
    "        newDf, _ = getStoreDF(storeId, deptId, df)\n",
    "        if newDf is not None:\n",
    "            existingSeries += 1\n",
    "        if (newDf is not None and len(newDf) >= 104):\n",
    "            actualUniqueTimeseries.append((storeId, deptId))\n",
    "print(existingSeries)"
   ]
  },
  {
   "cell_type": "code",
   "execution_count": null,
   "metadata": {},
   "outputs": [],
   "source": []
  },
  {
   "cell_type": "code",
   "execution_count": 13,
   "metadata": {},
   "outputs": [],
   "source": [
    "import csv\n",
    "\n",
    "with open(\"twoYearTimeSeries.csv\", \"w\", newline=\"\", encoding=\"utf-8\") as file:\n",
    "    writer = csv.writer(file)\n",
    "    writer.writerow([\"storeId\", \"departmentId\"])"
   ]
  },
  {
   "cell_type": "code",
   "execution_count": 14,
   "metadata": {},
   "outputs": [],
   "source": [
    "with open('twoYearTimeSeries.csv', mode='a', newline='', encoding='utf-8') as file:\n",
    "    writer = csv.writer(file)\n",
    "    for storeId, departmentId in actualUniqueTimeseries:\n",
    "        writer.writerow([storeId, departmentId])"
   ]
  },
  {
   "cell_type": "code",
   "execution_count": 3,
   "metadata": {},
   "outputs": [
    {
     "name": "stdout",
     "output_type": "stream",
     "text": [
      "MinLength<104>\n",
      "MaxLength<143>\n",
      "AverageLength<141.90550906555092>\n"
     ]
    }
   ],
   "source": [
    "import utils\n",
    "uniqueIds = pd.read_csv(\"twoYearTimeSeries.csv\")\n",
    "minLength = 20000\n",
    "maxLength = 0\n",
    "averageLength = 0.0\n",
    "numberOfTimeSeries = 0.0\n",
    "df = pd.read_csv(\"data/train.csv\")\n",
    "for _, row in uniqueIds.iterrows():\n",
    "    timeseries, _ = utils.getStoreDF(row[\"storeId\"], row[\"departmentId\"], df, 0)\n",
    "    if timeseries is None:\n",
    "        print(f\"NoneSeries: {row[\"storeId\"]}, {row[\"departmentId\"]}\")\n",
    "        continue\n",
    "    if (len(timeseries) > maxLength):\n",
    "        maxLength = len(timeseries)\n",
    "    \n",
    "    if(len(timeseries) < minLength):\n",
    "        minLength = len(timeseries)\n",
    "    averageLength += len(timeseries)\n",
    "    numberOfTimeSeries += 1.0\n",
    "\n",
    "print(f\"MinLength<{minLength}>\")\n",
    "print(f\"MaxLength<{maxLength}>\")\n",
    "print(f\"AverageLength<{averageLength / numberOfTimeSeries}>\")\n"
   ]
  },
  {
   "cell_type": "code",
   "execution_count": 32,
   "metadata": {},
   "outputs": [
    {
     "data": {
      "text/html": [
       "<div>\n",
       "<style scoped>\n",
       "    .dataframe tbody tr th:only-of-type {\n",
       "        vertical-align: middle;\n",
       "    }\n",
       "\n",
       "    .dataframe tbody tr th {\n",
       "        vertical-align: top;\n",
       "    }\n",
       "\n",
       "    .dataframe thead th {\n",
       "        text-align: right;\n",
       "    }\n",
       "</style>\n",
       "<table border=\"1\" class=\"dataframe\">\n",
       "  <thead>\n",
       "    <tr style=\"text-align: right;\">\n",
       "      <th></th>\n",
       "      <th>storeId</th>\n",
       "      <th>departmentId</th>\n",
       "    </tr>\n",
       "  </thead>\n",
       "  <tbody>\n",
       "    <tr>\n",
       "      <th>0</th>\n",
       "      <td>1</td>\n",
       "      <td>1</td>\n",
       "    </tr>\n",
       "    <tr>\n",
       "      <th>1</th>\n",
       "      <td>1</td>\n",
       "      <td>2</td>\n",
       "    </tr>\n",
       "    <tr>\n",
       "      <th>2</th>\n",
       "      <td>1</td>\n",
       "      <td>3</td>\n",
       "    </tr>\n",
       "    <tr>\n",
       "      <th>3</th>\n",
       "      <td>1</td>\n",
       "      <td>4</td>\n",
       "    </tr>\n",
       "    <tr>\n",
       "      <th>4</th>\n",
       "      <td>1</td>\n",
       "      <td>5</td>\n",
       "    </tr>\n",
       "    <tr>\n",
       "      <th>...</th>\n",
       "      <td>...</td>\n",
       "      <td>...</td>\n",
       "    </tr>\n",
       "    <tr>\n",
       "      <th>3640</th>\n",
       "      <td>45</td>\n",
       "      <td>99</td>\n",
       "    </tr>\n",
       "    <tr>\n",
       "      <th>3641</th>\n",
       "      <td>45</td>\n",
       "      <td>39</td>\n",
       "    </tr>\n",
       "    <tr>\n",
       "      <th>3642</th>\n",
       "      <td>45</td>\n",
       "      <td>50</td>\n",
       "    </tr>\n",
       "    <tr>\n",
       "      <th>3643</th>\n",
       "      <td>45</td>\n",
       "      <td>43</td>\n",
       "    </tr>\n",
       "    <tr>\n",
       "      <th>3644</th>\n",
       "      <td>45</td>\n",
       "      <td>65</td>\n",
       "    </tr>\n",
       "  </tbody>\n",
       "</table>\n",
       "<p>3645 rows × 2 columns</p>\n",
       "</div>"
      ],
      "text/plain": [
       "      storeId  departmentId\n",
       "0           1             1\n",
       "1           1             2\n",
       "2           1             3\n",
       "3           1             4\n",
       "4           1             5\n",
       "...       ...           ...\n",
       "3640       45            99\n",
       "3641       45            39\n",
       "3642       45            50\n",
       "3643       45            43\n",
       "3644       45            65\n",
       "\n",
       "[3645 rows x 2 columns]"
      ]
     },
     "execution_count": 32,
     "metadata": {},
     "output_type": "execute_result"
    }
   ],
   "source": [
    "uniqueIds"
   ]
  },
  {
   "cell_type": "code",
   "execution_count": null,
   "metadata": {},
   "outputs": [],
   "source": []
  }
 ],
 "metadata": {
  "kernelspec": {
   "display_name": "timeSeriesAnalysis",
   "language": "python",
   "name": "python3"
  },
  "language_info": {
   "codemirror_mode": {
    "name": "ipython",
    "version": 3
   },
   "file_extension": ".py",
   "mimetype": "text/x-python",
   "name": "python",
   "nbconvert_exporter": "python",
   "pygments_lexer": "ipython3",
   "version": "3.12.7"
  }
 },
 "nbformat": 4,
 "nbformat_minor": 2
}
